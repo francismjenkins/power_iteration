{
 "cells": [
  {
   "cell_type": "code",
   "execution_count": 3,
   "metadata": {},
   "outputs": [
    {
     "name": "stdout",
     "output_type": "stream",
     "text": [
      "The eigenvector associated with our largest eigenvalue =  [0.90348574 0.76982638 1.        ]\n",
      "Our largest eigenvalue =  19.884919497191916\n",
      "The eigenvector associated with our smallest eigenvalue =  [ 0.04116976  1.         -0.80702176]\n",
      "The smallest eigenvalue =  0.2942492388007652\n"
     ]
    }
   ],
   "source": [
    "#!/usr/bin/env python \n",
    "\n",
    "# Power (iteration) method with scaling (or normalization)\n",
    "# Problem 27.11 and 27.12 S. Chapra & R. Canale, Numerical Methods for Engineers, 6th Edition, McGraw Hill, 2010\n",
    "# Author: Frank Jenkins\n",
    "\n",
    "import numpy as np\n",
    "\n",
    "A = np.array([[2, 8, 10], [8, 4, 5], [10, 5, 7]])\n",
    "\n",
    "# v0 = np.array([1, 1, 1])\n",
    "\n",
    "#A_inv = np.array([[(-1/14), (1/7), 0], [(1/7), (43/21), (-5/3)], [0, (-5/3), (4/3)]])\n",
    "\n",
    "# We can either calculate the inverse of A manually or use Numpy linear algebra tools to calculate the inverse\n",
    " \n",
    "A_inv = np.linalg.inv(A)\n",
    "\n",
    "\n",
    "# The following function is a general purpose iterator to perform power method calculations\n",
    "# It can find the largest eigenvalue and associated eigenvector\n",
    "# If the matrix inverse is used it will find the inverse of the smallest eigenvalue and associated eigenvector\n",
    "# The while loop is coded to iterate until the absolute value of the error falls below the set tolerance level\n",
    "\n",
    "def power(A): \n",
    "\tn, m = A.shape\n",
    "\n",
    "\tv = np.ones(m)\n",
    "\tev = A.dot(v)\n",
    "\n",
    "\twhile(np.amax(np.abs(ev)) != 0):\n",
    "\t\tvmax = np.amax(ev)\n",
    "\t\tvnew = np.divide(ev, vmax)\n",
    "\t\tAv = A.dot(vnew)\n",
    "\t\tvnmax = np.amax(Av)\n",
    "\t\terror = np.divide((vnmax - vmax), vnmax)\n",
    "\t\tev = Av \n",
    "\t\tif np.abs(error) < 0.0001:\n",
    "\t\t\tbreak\n",
    "\n",
    "\treturn vnew, vmax \n",
    "\n",
    "# We can call our power method function and assign the return values to variables\n",
    "\t\n",
    "x, y = power(A)\n",
    "x1, y1 = power(A_inv)\n",
    "\n",
    "# To express the smallest eigenvalue, we take the inverse of the return value\n",
    "y1 = 1/y1\n",
    "\n",
    "print(\"The eigenvector associated with our largest eigenvalue = \", x)\n",
    "print(\"Our largest eigenvalue = \", y)\n",
    "print(\"The eigenvector associated with our smallest eigenvalue = \", x1)\n",
    "print(\"The smallest eigenvalue = \", y1)\n",
    "\n",
    "\n",
    "\n"
   ]
  },
  {
   "cell_type": "code",
   "execution_count": null,
   "metadata": {},
   "outputs": [],
   "source": []
  }
 ],
 "metadata": {
  "kernelspec": {
   "display_name": "Python 3",
   "language": "python",
   "name": "python3"
  },
  "language_info": {
   "codemirror_mode": {
    "name": "ipython",
    "version": 3
   },
   "file_extension": ".py",
   "mimetype": "text/x-python",
   "name": "python",
   "nbconvert_exporter": "python",
   "pygments_lexer": "ipython3",
   "version": "3.6.5"
  }
 },
 "nbformat": 4,
 "nbformat_minor": 2
}
